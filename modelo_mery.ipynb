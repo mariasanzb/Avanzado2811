{
 "cells": [
  {
   "cell_type": "markdown",
   "metadata": {},
   "source": [
    "### **SR Basado en Filtros Colaborativos**"
   ]
  },
  {
   "cell_type": "markdown",
   "metadata": {},
   "source": [
    "Voy a necesitar en un archivo el: \n",
    "- ID usuarios, ID items, rating correspondiente\n",
    "\n",
    "Para eso voy a importar el archivo **review.json** y me voy a quedar con las columnas:\n",
    "- user_id, business_id y stars\n",
    "\n",
    "El modelo es del tipo Model Based que no se basa solo en interacciones sino que usa algoritmos por detras. Se va a probar en esta notebook el **SVD** que es un enfoque de factorización matricial que modela características latentes compartidas tanto por los usuarios como por los ítems.\"Predice las valoraciones del usuario para cada restaurante\"\n",
    "\n",
    "El archivo que leo ya es un parquet filtrado para que no haya dos de la combinacion Usuario Restaurante"
   ]
  },
  {
   "cell_type": "markdown",
   "metadata": {},
   "source": [
    "#### Imports y Lectura del Archivo"
   ]
  },
  {
   "cell_type": "code",
   "execution_count": 24,
   "metadata": {},
   "outputs": [
    {
     "name": "stdout",
     "output_type": "stream",
     "text": [
      "Requirement already satisfied: chart_studio in c:\\users\\maria\\anaconda3\\lib\\site-packages (1.1.0)\n",
      "Requirement already satisfied: plotly in c:\\users\\maria\\anaconda3\\lib\\site-packages (from chart_studio) (5.24.1)\n",
      "Requirement already satisfied: requests in c:\\users\\maria\\anaconda3\\lib\\site-packages (from chart_studio) (2.32.3)\n",
      "Requirement already satisfied: retrying>=1.3.3 in c:\\users\\maria\\anaconda3\\lib\\site-packages (from chart_studio) (1.3.4)\n",
      "Requirement already satisfied: six in c:\\users\\maria\\anaconda3\\lib\\site-packages (from chart_studio) (1.16.0)\n",
      "Requirement already satisfied: tenacity>=6.2.0 in c:\\users\\maria\\anaconda3\\lib\\site-packages (from plotly->chart_studio) (8.2.3)\n",
      "Requirement already satisfied: packaging in c:\\users\\maria\\anaconda3\\lib\\site-packages (from plotly->chart_studio) (24.1)\n",
      "Requirement already satisfied: charset-normalizer<4,>=2 in c:\\users\\maria\\anaconda3\\lib\\site-packages (from requests->chart_studio) (3.3.2)\n",
      "Requirement already satisfied: idna<4,>=2.5 in c:\\users\\maria\\anaconda3\\lib\\site-packages (from requests->chart_studio) (3.7)\n",
      "Requirement already satisfied: urllib3<3,>=1.21.1 in c:\\users\\maria\\anaconda3\\lib\\site-packages (from requests->chart_studio) (2.2.3)\n",
      "Requirement already satisfied: certifi>=2017.4.17 in c:\\users\\maria\\anaconda3\\lib\\site-packages (from requests->chart_studio) (2024.8.30)\n",
      "Note: you may need to restart the kernel to use updated packages.\n"
     ]
    }
   ],
   "source": [
    "pip install chart_studio"
   ]
  },
  {
   "cell_type": "code",
   "execution_count": null,
   "metadata": {},
   "outputs": [],
   "source": [
    "pip install --upgrade pip setuptools wheel"
   ]
  },
  {
   "cell_type": "code",
   "execution_count": null,
   "metadata": {},
   "outputs": [],
   "source": [
    "pip install --upgrade pandas"
   ]
  },
  {
   "cell_type": "code",
   "execution_count": 1,
   "metadata": {},
   "outputs": [],
   "source": [
    "\n",
    "import numpy as np\n",
    "import pandas as pd\n",
    "import matplotlib.pyplot as plt\n",
    "#import datapane as dp\n",
    "#import chart_studio.plotly as py\n",
    "import chart_studio\n",
    "import os\n",
    "\n",
    "from sklearn.model_selection import train_test_split as skl_train_test_split\n",
    "from surprise import KNNBasic,NormalPredictor,BaselineOnly #NMF\n",
    "\n"
   ]
  },
  {
   "cell_type": "code",
   "execution_count": 72,
   "metadata": {},
   "outputs": [],
   "source": [
    "import pandas as pd\n",
    "import numpy as np\n",
    "import matplotlib.pyplot as plt\n",
    "import seaborn as sns\n",
    "from surprise import Dataset\n",
    "from surprise import Reader\n",
    "from surprise import Dataset, Reader, SVD\n",
    "from surprise.model_selection import train_test_split\n",
    "import pandas as pd\n",
    "import random\n",
    "import difflib\n",
    "from surprise.model_selection import cross_validate\n",
    "from collections import defaultdict\n",
    "\n",
    "from surprise import Dataset, SVD\n",
    "from surprise.model_selection import KFold"
   ]
  },
  {
   "cell_type": "code",
   "execution_count": 3,
   "metadata": {},
   "outputs": [
    {
     "name": "stdout",
     "output_type": "stream",
     "text": [
      "Collecting gdown\n",
      "  Downloading gdown-5.2.0-py3-none-any.whl.metadata (5.8 kB)\n",
      "Requirement already satisfied: beautifulsoup4 in c:\\users\\maria\\anaconda3\\lib\\site-packages (from gdown) (4.12.3)\n",
      "Requirement already satisfied: filelock in c:\\users\\maria\\anaconda3\\lib\\site-packages (from gdown) (3.13.1)\n",
      "Requirement already satisfied: requests[socks] in c:\\users\\maria\\anaconda3\\lib\\site-packages (from gdown) (2.32.3)\n",
      "Requirement already satisfied: tqdm in c:\\users\\maria\\anaconda3\\lib\\site-packages (from gdown) (4.66.5)\n",
      "Requirement already satisfied: soupsieve>1.2 in c:\\users\\maria\\anaconda3\\lib\\site-packages (from beautifulsoup4->gdown) (2.5)\n",
      "Requirement already satisfied: charset-normalizer<4,>=2 in c:\\users\\maria\\anaconda3\\lib\\site-packages (from requests[socks]->gdown) (3.3.2)\n",
      "Requirement already satisfied: idna<4,>=2.5 in c:\\users\\maria\\anaconda3\\lib\\site-packages (from requests[socks]->gdown) (3.7)\n",
      "Requirement already satisfied: urllib3<3,>=1.21.1 in c:\\users\\maria\\anaconda3\\lib\\site-packages (from requests[socks]->gdown) (2.2.3)\n",
      "Requirement already satisfied: certifi>=2017.4.17 in c:\\users\\maria\\anaconda3\\lib\\site-packages (from requests[socks]->gdown) (2024.8.30)\n",
      "Requirement already satisfied: PySocks!=1.5.7,>=1.5.6 in c:\\users\\maria\\anaconda3\\lib\\site-packages (from requests[socks]->gdown) (1.7.1)\n",
      "Requirement already satisfied: colorama in c:\\users\\maria\\anaconda3\\lib\\site-packages (from tqdm->gdown) (0.4.6)\n",
      "Downloading gdown-5.2.0-py3-none-any.whl (18 kB)\n",
      "Installing collected packages: gdown\n",
      "Successfully installed gdown-5.2.0\n",
      "Note: you may need to restart the kernel to use updated packages.\n"
     ]
    }
   ],
   "source": [
    "pip install gdown"
   ]
  },
  {
   "cell_type": "code",
   "execution_count": 4,
   "metadata": {},
   "outputs": [],
   "source": [
    "import gdown"
   ]
  },
  {
   "cell_type": "code",
   "execution_count": 5,
   "metadata": {},
   "outputs": [
    {
     "name": "stderr",
     "output_type": "stream",
     "text": [
      "Downloading...\n",
      "From (original): https://drive.google.com/uc?export=download&id=1tY2U8IjcUo2NTbXMWvY1Bg9eG8qn9fcK\n",
      "From (redirected): https://drive.google.com/uc?export=download&id=1tY2U8IjcUo2NTbXMWvY1Bg9eG8qn9fcK&confirm=t&uuid=6e48bc20-c200-4ba0-b7b2-2126ecaa94b5\n",
      "To: c:\\Users\\maria\\Documents\\ITBA MARIA\\funcionaplis_3\\reviews.parquet\n",
      "100%|██████████| 144M/144M [00:12<00:00, 11.1MB/s] \n"
     ]
    }
   ],
   "source": [
    "url = 'https://drive.google.com/uc?export=download&id=1tY2U8IjcUo2NTbXMWvY1Bg9eG8qn9fcK'\n",
    "gdown.download(url, 'reviews.parquet', quiet=False)\n",
    "\n",
    "# Ahora puedes cargar el archivo como un DataFrame de pandas o usarlo como lo necesites\n",
    "import pandas as pd\n",
    "reviews = pd.read_parquet('reviews.parquet',engine='pyarrow')"
   ]
  },
  {
   "cell_type": "code",
   "execution_count": 6,
   "metadata": {},
   "outputs": [
    {
     "name": "stdout",
     "output_type": "stream",
     "text": [
      "Index(['review_id', 'user_id', 'business_id', 'stars', 'useful', 'funny',\n",
      "       'cool', 'text', 'date'],\n",
      "      dtype='object')\n"
     ]
    }
   ],
   "source": [
    "#reviews = pd.read_parquet('reviews.parquet', engine='pyarrow')\n",
    "print(reviews.columns)"
   ]
  },
  {
   "cell_type": "code",
   "execution_count": 53,
   "metadata": {},
   "outputs": [],
   "source": [
    "reviews = pd.read_parquet('reviews.parquet', engine='pyarrow')\n",
    "reviews= reviews[['user_id', 'business_id', 'stars']]"
   ]
  },
  {
   "cell_type": "code",
   "execution_count": 43,
   "metadata": {},
   "outputs": [
    {
     "name": "stdout",
     "output_type": "stream",
     "text": [
      "Index(['user_id', 'business_id', 'stars'], dtype='object')\n"
     ]
    }
   ],
   "source": [
    "print(reviews.columns)"
   ]
  },
  {
   "cell_type": "code",
   "execution_count": 47,
   "metadata": {},
   "outputs": [
    {
     "data": {
      "text/html": [
       "<div>\n",
       "<style scoped>\n",
       "    .dataframe tbody tr th:only-of-type {\n",
       "        vertical-align: middle;\n",
       "    }\n",
       "\n",
       "    .dataframe tbody tr th {\n",
       "        vertical-align: top;\n",
       "    }\n",
       "\n",
       "    .dataframe thead th {\n",
       "        text-align: right;\n",
       "    }\n",
       "</style>\n",
       "<table border=\"1\" class=\"dataframe\">\n",
       "  <thead>\n",
       "    <tr style=\"text-align: right;\">\n",
       "      <th></th>\n",
       "      <th>user_id</th>\n",
       "      <th>business_id</th>\n",
       "      <th>stars</th>\n",
       "    </tr>\n",
       "  </thead>\n",
       "  <tbody>\n",
       "    <tr>\n",
       "      <th>0</th>\n",
       "      <td>nkN_do3fJ9xekchVC-v68A</td>\n",
       "      <td>8A5LSwsKK5vXDH1M3_Tf1w</td>\n",
       "      <td>5</td>\n",
       "    </tr>\n",
       "    <tr>\n",
       "      <th>1</th>\n",
       "      <td>nkN_do3fJ9xekchVC-v68A</td>\n",
       "      <td>U3grYFIeu6RgAAQgdriHww</td>\n",
       "      <td>5</td>\n",
       "    </tr>\n",
       "    <tr>\n",
       "      <th>2</th>\n",
       "      <td>nkN_do3fJ9xekchVC-v68A</td>\n",
       "      <td>UjOq8dBVNv9weHrVDqm3kQ</td>\n",
       "      <td>1</td>\n",
       "    </tr>\n",
       "    <tr>\n",
       "      <th>3</th>\n",
       "      <td>nkN_do3fJ9xekchVC-v68A</td>\n",
       "      <td>CoZ2mpsMBP8HUG1ymKoZTg</td>\n",
       "      <td>3</td>\n",
       "    </tr>\n",
       "    <tr>\n",
       "      <th>4</th>\n",
       "      <td>iUeZhkI0OK0BisakOkb3pQ</td>\n",
       "      <td>IZZ_uR2ps5KuuyE0n--jVA</td>\n",
       "      <td>5</td>\n",
       "    </tr>\n",
       "    <tr>\n",
       "      <th>5</th>\n",
       "      <td>iUeZhkI0OK0BisakOkb3pQ</td>\n",
       "      <td>LuB-RHZQzmbAHXmykrN0BA</td>\n",
       "      <td>3</td>\n",
       "    </tr>\n",
       "    <tr>\n",
       "      <th>6</th>\n",
       "      <td>iUeZhkI0OK0BisakOkb3pQ</td>\n",
       "      <td>ZTctPm8-lBy0iJ9dFhYhyQ</td>\n",
       "      <td>5</td>\n",
       "    </tr>\n",
       "    <tr>\n",
       "      <th>7</th>\n",
       "      <td>iUeZhkI0OK0BisakOkb3pQ</td>\n",
       "      <td>YxzjYHBkWLwxpvOlcjKkhw</td>\n",
       "      <td>4</td>\n",
       "    </tr>\n",
       "    <tr>\n",
       "      <th>8</th>\n",
       "      <td>iUeZhkI0OK0BisakOkb3pQ</td>\n",
       "      <td>g1xRzUV-aLjAE4mkdhLwBQ</td>\n",
       "      <td>5</td>\n",
       "    </tr>\n",
       "    <tr>\n",
       "      <th>9</th>\n",
       "      <td>nzsv-p1O8gCfP3XijfQrIw</td>\n",
       "      <td>QhxtQppYwOCKjExMftCa9Q</td>\n",
       "      <td>4</td>\n",
       "    </tr>\n",
       "  </tbody>\n",
       "</table>\n",
       "</div>"
      ],
      "text/plain": [
       "                  user_id             business_id  stars\n",
       "0  nkN_do3fJ9xekchVC-v68A  8A5LSwsKK5vXDH1M3_Tf1w      5\n",
       "1  nkN_do3fJ9xekchVC-v68A  U3grYFIeu6RgAAQgdriHww      5\n",
       "2  nkN_do3fJ9xekchVC-v68A  UjOq8dBVNv9weHrVDqm3kQ      1\n",
       "3  nkN_do3fJ9xekchVC-v68A  CoZ2mpsMBP8HUG1ymKoZTg      3\n",
       "4  iUeZhkI0OK0BisakOkb3pQ  IZZ_uR2ps5KuuyE0n--jVA      5\n",
       "5  iUeZhkI0OK0BisakOkb3pQ  LuB-RHZQzmbAHXmykrN0BA      3\n",
       "6  iUeZhkI0OK0BisakOkb3pQ  ZTctPm8-lBy0iJ9dFhYhyQ      5\n",
       "7  iUeZhkI0OK0BisakOkb3pQ  YxzjYHBkWLwxpvOlcjKkhw      4\n",
       "8  iUeZhkI0OK0BisakOkb3pQ  g1xRzUV-aLjAE4mkdhLwBQ      5\n",
       "9  nzsv-p1O8gCfP3XijfQrIw  QhxtQppYwOCKjExMftCa9Q      4"
      ]
     },
     "execution_count": 47,
     "metadata": {},
     "output_type": "execute_result"
    }
   ],
   "source": [
    "reviews.head(10)"
   ]
  },
  {
   "cell_type": "code",
   "execution_count": 46,
   "metadata": {},
   "outputs": [
    {
     "name": "stdout",
     "output_type": "stream",
     "text": [
      "Index(['business_id', 'name', 'address', 'city', 'state', 'postal_code',\n",
      "       'latitude', 'longitude', 'stars', 'review_count', 'is_open',\n",
      "       'attributes', 'categories', 'hours'],\n",
      "      dtype='object')\n"
     ]
    }
   ],
   "source": [
    "restaurant = pd.read_parquet('mi_archivo1.parquet', engine='pyarrow')\n",
    "print(restaurant.columns)"
   ]
  },
  {
   "cell_type": "code",
   "execution_count": 50,
   "metadata": {},
   "outputs": [
    {
     "data": {
      "text/html": [
       "<div>\n",
       "<style scoped>\n",
       "    .dataframe tbody tr th:only-of-type {\n",
       "        vertical-align: middle;\n",
       "    }\n",
       "\n",
       "    .dataframe tbody tr th {\n",
       "        vertical-align: top;\n",
       "    }\n",
       "\n",
       "    .dataframe thead th {\n",
       "        text-align: right;\n",
       "    }\n",
       "</style>\n",
       "<table border=\"1\" class=\"dataframe\">\n",
       "  <thead>\n",
       "    <tr style=\"text-align: right;\">\n",
       "      <th></th>\n",
       "      <th>business_id</th>\n",
       "      <th>name</th>\n",
       "      <th>address</th>\n",
       "      <th>city</th>\n",
       "      <th>state</th>\n",
       "      <th>postal_code</th>\n",
       "      <th>latitude</th>\n",
       "      <th>longitude</th>\n",
       "      <th>stars</th>\n",
       "      <th>review_count</th>\n",
       "      <th>is_open</th>\n",
       "      <th>attributes</th>\n",
       "      <th>categories</th>\n",
       "      <th>hours</th>\n",
       "    </tr>\n",
       "  </thead>\n",
       "  <tbody>\n",
       "    <tr>\n",
       "      <th>3</th>\n",
       "      <td>MTSW4McQd7CbVtyjqoe9mw</td>\n",
       "      <td>St Honore Pastries</td>\n",
       "      <td>935 Race St</td>\n",
       "      <td>Philadelphia</td>\n",
       "      <td>PA</td>\n",
       "      <td>19107</td>\n",
       "      <td>39.955505</td>\n",
       "      <td>-75.155564</td>\n",
       "      <td>4.0</td>\n",
       "      <td>80</td>\n",
       "      <td>1</td>\n",
       "      <td>{'AcceptsInsurance': None, 'AgesAllowed': None...</td>\n",
       "      <td>Restaurants, Food, Bubble Tea, Coffee &amp; Tea, B...</td>\n",
       "      <td>{'Friday': '7:0-21:0', 'Monday': '7:0-20:0', '...</td>\n",
       "    </tr>\n",
       "    <tr>\n",
       "      <th>14</th>\n",
       "      <td>0bPLkL0QhhPO5kt1_EXmNQ</td>\n",
       "      <td>Zio's Italian Market</td>\n",
       "      <td>2575 E Bay Dr</td>\n",
       "      <td>Largo</td>\n",
       "      <td>FL</td>\n",
       "      <td>33771</td>\n",
       "      <td>27.916116</td>\n",
       "      <td>-82.760461</td>\n",
       "      <td>4.5</td>\n",
       "      <td>100</td>\n",
       "      <td>0</td>\n",
       "      <td>{'AcceptsInsurance': None, 'AgesAllowed': None...</td>\n",
       "      <td>Food, Delis, Italian, Bakeries, Restaurants</td>\n",
       "      <td>{'Friday': '10:0-20:0', 'Monday': '10:0-18:0',...</td>\n",
       "    </tr>\n",
       "    <tr>\n",
       "      <th>15</th>\n",
       "      <td>MUTTqe8uqyMdBl186RmNeA</td>\n",
       "      <td>Tuna Bar</td>\n",
       "      <td>205 Race St</td>\n",
       "      <td>Philadelphia</td>\n",
       "      <td>PA</td>\n",
       "      <td>19106</td>\n",
       "      <td>39.953949</td>\n",
       "      <td>-75.143226</td>\n",
       "      <td>4.0</td>\n",
       "      <td>245</td>\n",
       "      <td>1</td>\n",
       "      <td>{'AcceptsInsurance': None, 'AgesAllowed': None...</td>\n",
       "      <td>Sushi Bars, Restaurants, Japanese</td>\n",
       "      <td>{'Friday': '13:30-23:0', 'Monday': None, 'Satu...</td>\n",
       "    </tr>\n",
       "    <tr>\n",
       "      <th>19</th>\n",
       "      <td>ROeacJQwBeh05Rqg7F6TCg</td>\n",
       "      <td>BAP</td>\n",
       "      <td>1224 South St</td>\n",
       "      <td>Philadelphia</td>\n",
       "      <td>PA</td>\n",
       "      <td>19147</td>\n",
       "      <td>39.943223</td>\n",
       "      <td>-75.162568</td>\n",
       "      <td>4.5</td>\n",
       "      <td>205</td>\n",
       "      <td>1</td>\n",
       "      <td>{'AcceptsInsurance': None, 'AgesAllowed': None...</td>\n",
       "      <td>Korean, Restaurants</td>\n",
       "      <td>{'Friday': '11:30-20:30', 'Monday': '11:30-20:...</td>\n",
       "    </tr>\n",
       "    <tr>\n",
       "      <th>23</th>\n",
       "      <td>9OG5YkX1g2GReZM0AskizA</td>\n",
       "      <td>Romano's Macaroni Grill</td>\n",
       "      <td>5505 S Virginia St</td>\n",
       "      <td>Reno</td>\n",
       "      <td>NV</td>\n",
       "      <td>89502</td>\n",
       "      <td>39.476117</td>\n",
       "      <td>-119.789339</td>\n",
       "      <td>2.5</td>\n",
       "      <td>339</td>\n",
       "      <td>1</td>\n",
       "      <td>{'AcceptsInsurance': None, 'AgesAllowed': None...</td>\n",
       "      <td>Restaurants, Italian</td>\n",
       "      <td>{'Friday': '11:0-21:0', 'Monday': '11:0-22:0',...</td>\n",
       "    </tr>\n",
       "    <tr>\n",
       "      <th>27</th>\n",
       "      <td>tMkwHmWFUEXrC9ZduonpTg</td>\n",
       "      <td>The Green Pheasant</td>\n",
       "      <td>215 1st Ave S</td>\n",
       "      <td>Nashville</td>\n",
       "      <td>TN</td>\n",
       "      <td>37201</td>\n",
       "      <td>36.159886</td>\n",
       "      <td>-86.773197</td>\n",
       "      <td>4.0</td>\n",
       "      <td>161</td>\n",
       "      <td>0</td>\n",
       "      <td>{'AcceptsInsurance': None, 'AgesAllowed': None...</td>\n",
       "      <td>Restaurants, Japanese, Seafood</td>\n",
       "      <td>{'Friday': '16:0-23:0', 'Monday': None, 'Satur...</td>\n",
       "    </tr>\n",
       "    <tr>\n",
       "      <th>33</th>\n",
       "      <td>kV_Q1oqis8Qli8dUoGpTyQ</td>\n",
       "      <td>Ardmore Pizza</td>\n",
       "      <td>10 Rittenhouse Pl</td>\n",
       "      <td>Ardmore</td>\n",
       "      <td>PA</td>\n",
       "      <td>19003</td>\n",
       "      <td>40.006707</td>\n",
       "      <td>-75.289671</td>\n",
       "      <td>3.5</td>\n",
       "      <td>109</td>\n",
       "      <td>1</td>\n",
       "      <td>{'AcceptsInsurance': None, 'AgesAllowed': None...</td>\n",
       "      <td>Pizza, Restaurants</td>\n",
       "      <td>{'Friday': '11:0-1:0', 'Monday': '11:0-0:0', '...</td>\n",
       "    </tr>\n",
       "    <tr>\n",
       "      <th>41</th>\n",
       "      <td>ljxNT9p0y7YMPx0fcNBGig</td>\n",
       "      <td>Tony's Restaurant &amp; 3rd Street Cafe</td>\n",
       "      <td>312 Piasa St</td>\n",
       "      <td>Alton</td>\n",
       "      <td>IL</td>\n",
       "      <td>62002</td>\n",
       "      <td>38.896563</td>\n",
       "      <td>-90.186203</td>\n",
       "      <td>3.0</td>\n",
       "      <td>94</td>\n",
       "      <td>1</td>\n",
       "      <td>{'AcceptsInsurance': None, 'AgesAllowed': None...</td>\n",
       "      <td>Restaurants, Specialty Food, Steakhouses, Food...</td>\n",
       "      <td>{'Friday': '16:0-22:0', 'Monday': '0:0-0:0', '...</td>\n",
       "    </tr>\n",
       "    <tr>\n",
       "      <th>47</th>\n",
       "      <td>lk9IwjZXqUMqqOhM774DtQ</td>\n",
       "      <td>Caviar &amp; Bananas</td>\n",
       "      <td>2031 Broadway</td>\n",
       "      <td>Nashville</td>\n",
       "      <td>TN</td>\n",
       "      <td>37203</td>\n",
       "      <td>36.148371</td>\n",
       "      <td>-86.798895</td>\n",
       "      <td>3.5</td>\n",
       "      <td>159</td>\n",
       "      <td>0</td>\n",
       "      <td>{'AcceptsInsurance': None, 'AgesAllowed': None...</td>\n",
       "      <td>Coffee &amp; Tea, Restaurants, Wine Bars, Bars, Ni...</td>\n",
       "      <td>{'Friday': '7:0-17:0', 'Monday': '7:0-17:0', '...</td>\n",
       "    </tr>\n",
       "    <tr>\n",
       "      <th>61</th>\n",
       "      <td>seKihQKpGGnCeLuELRQPSQ</td>\n",
       "      <td>Twin Peaks</td>\n",
       "      <td>6880 E 82nd St</td>\n",
       "      <td>Indianapolis</td>\n",
       "      <td>IN</td>\n",
       "      <td>46250</td>\n",
       "      <td>39.906295</td>\n",
       "      <td>-86.047463</td>\n",
       "      <td>3.5</td>\n",
       "      <td>257</td>\n",
       "      <td>1</td>\n",
       "      <td>{'AcceptsInsurance': None, 'AgesAllowed': None...</td>\n",
       "      <td>Sports Bars, American (New), American (Traditi...</td>\n",
       "      <td>{'Friday': '11:0-19:0', 'Monday': '0:0-0:0', '...</td>\n",
       "    </tr>\n",
       "  </tbody>\n",
       "</table>\n",
       "</div>"
      ],
      "text/plain": [
       "               business_id                                 name  \\\n",
       "3   MTSW4McQd7CbVtyjqoe9mw                   St Honore Pastries   \n",
       "14  0bPLkL0QhhPO5kt1_EXmNQ                 Zio's Italian Market   \n",
       "15  MUTTqe8uqyMdBl186RmNeA                             Tuna Bar   \n",
       "19  ROeacJQwBeh05Rqg7F6TCg                                  BAP   \n",
       "23  9OG5YkX1g2GReZM0AskizA              Romano's Macaroni Grill   \n",
       "27  tMkwHmWFUEXrC9ZduonpTg                   The Green Pheasant   \n",
       "33  kV_Q1oqis8Qli8dUoGpTyQ                        Ardmore Pizza   \n",
       "41  ljxNT9p0y7YMPx0fcNBGig  Tony's Restaurant & 3rd Street Cafe   \n",
       "47  lk9IwjZXqUMqqOhM774DtQ                     Caviar & Bananas   \n",
       "61  seKihQKpGGnCeLuELRQPSQ                           Twin Peaks   \n",
       "\n",
       "               address          city state postal_code   latitude   longitude  \\\n",
       "3          935 Race St  Philadelphia    PA       19107  39.955505  -75.155564   \n",
       "14       2575 E Bay Dr         Largo    FL       33771  27.916116  -82.760461   \n",
       "15         205 Race St  Philadelphia    PA       19106  39.953949  -75.143226   \n",
       "19       1224 South St  Philadelphia    PA       19147  39.943223  -75.162568   \n",
       "23  5505 S Virginia St          Reno    NV       89502  39.476117 -119.789339   \n",
       "27       215 1st Ave S     Nashville    TN       37201  36.159886  -86.773197   \n",
       "33   10 Rittenhouse Pl       Ardmore    PA       19003  40.006707  -75.289671   \n",
       "41        312 Piasa St         Alton    IL       62002  38.896563  -90.186203   \n",
       "47       2031 Broadway     Nashville    TN       37203  36.148371  -86.798895   \n",
       "61      6880 E 82nd St  Indianapolis    IN       46250  39.906295  -86.047463   \n",
       "\n",
       "    stars  review_count  is_open  \\\n",
       "3     4.0            80        1   \n",
       "14    4.5           100        0   \n",
       "15    4.0           245        1   \n",
       "19    4.5           205        1   \n",
       "23    2.5           339        1   \n",
       "27    4.0           161        0   \n",
       "33    3.5           109        1   \n",
       "41    3.0            94        1   \n",
       "47    3.5           159        0   \n",
       "61    3.5           257        1   \n",
       "\n",
       "                                           attributes  \\\n",
       "3   {'AcceptsInsurance': None, 'AgesAllowed': None...   \n",
       "14  {'AcceptsInsurance': None, 'AgesAllowed': None...   \n",
       "15  {'AcceptsInsurance': None, 'AgesAllowed': None...   \n",
       "19  {'AcceptsInsurance': None, 'AgesAllowed': None...   \n",
       "23  {'AcceptsInsurance': None, 'AgesAllowed': None...   \n",
       "27  {'AcceptsInsurance': None, 'AgesAllowed': None...   \n",
       "33  {'AcceptsInsurance': None, 'AgesAllowed': None...   \n",
       "41  {'AcceptsInsurance': None, 'AgesAllowed': None...   \n",
       "47  {'AcceptsInsurance': None, 'AgesAllowed': None...   \n",
       "61  {'AcceptsInsurance': None, 'AgesAllowed': None...   \n",
       "\n",
       "                                           categories  \\\n",
       "3   Restaurants, Food, Bubble Tea, Coffee & Tea, B...   \n",
       "14        Food, Delis, Italian, Bakeries, Restaurants   \n",
       "15                  Sushi Bars, Restaurants, Japanese   \n",
       "19                                Korean, Restaurants   \n",
       "23                               Restaurants, Italian   \n",
       "27                     Restaurants, Japanese, Seafood   \n",
       "33                                 Pizza, Restaurants   \n",
       "41  Restaurants, Specialty Food, Steakhouses, Food...   \n",
       "47  Coffee & Tea, Restaurants, Wine Bars, Bars, Ni...   \n",
       "61  Sports Bars, American (New), American (Traditi...   \n",
       "\n",
       "                                                hours  \n",
       "3   {'Friday': '7:0-21:0', 'Monday': '7:0-20:0', '...  \n",
       "14  {'Friday': '10:0-20:0', 'Monday': '10:0-18:0',...  \n",
       "15  {'Friday': '13:30-23:0', 'Monday': None, 'Satu...  \n",
       "19  {'Friday': '11:30-20:30', 'Monday': '11:30-20:...  \n",
       "23  {'Friday': '11:0-21:0', 'Monday': '11:0-22:0',...  \n",
       "27  {'Friday': '16:0-23:0', 'Monday': None, 'Satur...  \n",
       "33  {'Friday': '11:0-1:0', 'Monday': '11:0-0:0', '...  \n",
       "41  {'Friday': '16:0-22:0', 'Monday': '0:0-0:0', '...  \n",
       "47  {'Friday': '7:0-17:0', 'Monday': '7:0-17:0', '...  \n",
       "61  {'Friday': '11:0-19:0', 'Monday': '0:0-0:0', '...  "
      ]
     },
     "execution_count": 50,
     "metadata": {},
     "output_type": "execute_result"
    }
   ],
   "source": [
    "restaurant.head(10)"
   ]
  },
  {
   "cell_type": "markdown",
   "metadata": {},
   "source": [
    "#### Modelo de SR"
   ]
  },
  {
   "cell_type": "code",
   "execution_count": null,
   "metadata": {},
   "outputs": [
    {
     "data": {
      "text/plain": [
       "<surprise.prediction_algorithms.matrix_factorization.SVD at 0x14f2e6c4ad0>"
      ]
     },
     "execution_count": 54,
     "metadata": {},
     "output_type": "execute_result"
    }
   ],
   "source": [
    "reader = Reader(rating_scale=(1, 5))\n",
    "data = Dataset.load_from_df(reviews, reader) \n",
    "trainset, testset = train_test_split(data, test_size=0.2)  # El 20% para test\n",
    "svd = SVD()\n",
    "svd.fit(trainset) #Entreno un modelo con SVD "
   ]
  },
  {
   "cell_type": "code",
   "execution_count": 60,
   "metadata": {},
   "outputs": [],
   "source": [
    "import difflib\n",
    "import random\n",
    "\n",
    "def get_restaurant_id(restaurant_title, metadata):\n",
    "    \n",
    "    existing_titles = list(metadata['name'].values)\n",
    "    closest_titles = difflib.get_close_matches(restaurant_title, existing_titles)\n",
    "    restaurant_id = metadata[metadata['name'] == closest_titles[0]]['business_id'].values[0]\n",
    "    return restaurant_id\n",
    "\n",
    "def get_restaurant_info(restaurant_id, metadata):\n",
    "    \n",
    "    restaurant_info = metadata[metadata['business_id'] == restaurant_id][['business_id', 'latitude', \n",
    "                                                    'longitude', 'name', 'stars']]\n",
    "    return restaurant_info.to_dict(orient='records')\n",
    "\n",
    "def predict_review(user_id, restaurant_title, model, metadata):\n",
    "    \n",
    "    restaurant_id = get_restaurant_id(restaurant_title, metadata)\n",
    "    review_prediction = model.predict(uid=user_id, iid=restaurant_id)\n",
    "    return review_prediction.est\n",
    "\n",
    "def generate_recommendation(user_id, model, metadata, thresh=4):\n",
    "    \n",
    "    restaurant_titles = list(metadata['name'].values)\n",
    "    random.shuffle(restaurant_titles)\n",
    "    \n",
    "    for restaurant_title in restaurant_titles:\n",
    "        rating = predict_review(user_id, restaurant_title, model, metadata)\n",
    "        if rating >= thresh:\n",
    "            restaurant_id = get_restaurant_id(restaurant_title, metadata)\n",
    "            return get_restaurant_info(restaurant_id, metadata)"
   ]
  },
  {
   "cell_type": "code",
   "execution_count": 64,
   "metadata": {},
   "outputs": [
    {
     "data": {
      "text/plain": [
       "[{'business_id': 'wbLXXbI-T6Av71i9AoiZRQ',\n",
       "  'latitude': 38.8116095,\n",
       "  'longitude': -89.9556965,\n",
       "  'name': 'Cleveland-Heath',\n",
       "  'stars': 4.5}]"
      ]
     },
     "execution_count": 64,
     "metadata": {},
     "output_type": "execute_result"
    }
   ],
   "source": [
    "#Hago la prediccion poniendo un user_id\n",
    "user_id = 'nkN_do3fJ9xekchVC-v68A'\n",
    "generate_recommendation(user_id, svd, restaurant, 4)#Umbral de que va a predecir que por lo menos puntea con 4 a este restaurante"
   ]
  },
  {
   "cell_type": "markdown",
   "metadata": {},
   "source": [
    "#### Comparando otros algoritmos ademas de SVD a ver como funcionan"
   ]
  },
  {
   "cell_type": "code",
   "execution_count": 68,
   "metadata": {},
   "outputs": [],
   "source": [
    "reader = Reader(rating_scale=(1, 5))  # Suponiendo que las estrellas están en el rango de 1 a 5\n",
    "data = Dataset.load_from_df(reviews[['user_id', 'business_id', 'stars']], reader)\n",
    "\n",
    "# Inicializar los algoritmos\n",
    "algo_random = NormalPredictor()\n",
    "algo_baseline = BaselineOnly()\n",
    "algo_svd = SVD(random_state=100)\n",
    "algo_knn = KNNBasic(random_state=100)\n",
    "\n",
    "# Evaluar los algoritmos utilizando cross-validation\n",
    "cv_random = cross_validate(algo_random, data, measures=['RMSE'], cv=4, verbose=False, n_jobs=-1)\n",
    "cv_baseline = cross_validate(algo_baseline, data, measures=['RMSE'], cv=4, verbose=False, n_jobs=-1)\n",
    "cv_svd = cross_validate(algo_svd, data, measures=['RMSE'], cv=4, verbose=False, n_jobs=-1)\n",
    "cv_knn = cross_validate(algo_knn, data, measures=['RMSE'], cv=4, verbose=False, n_jobs=-1)"
   ]
  },
  {
   "cell_type": "code",
   "execution_count": null,
   "metadata": {},
   "outputs": [
    {
     "data": {
      "text/html": [
       "<div>\n",
       "<style scoped>\n",
       "    .dataframe tbody tr th:only-of-type {\n",
       "        vertical-align: middle;\n",
       "    }\n",
       "\n",
       "    .dataframe tbody tr th {\n",
       "        vertical-align: top;\n",
       "    }\n",
       "\n",
       "    .dataframe thead th {\n",
       "        text-align: right;\n",
       "    }\n",
       "</style>\n",
       "<table border=\"1\" class=\"dataframe\">\n",
       "  <thead>\n",
       "    <tr style=\"text-align: right;\">\n",
       "      <th></th>\n",
       "      <th>Algoritmo</th>\n",
       "      <th>RMSE CV</th>\n",
       "    </tr>\n",
       "  </thead>\n",
       "  <tbody>\n",
       "    <tr>\n",
       "      <th>1</th>\n",
       "      <td>Baseline</td>\n",
       "      <td>0.879</td>\n",
       "    </tr>\n",
       "    <tr>\n",
       "      <th>2</th>\n",
       "      <td>SVD</td>\n",
       "      <td>0.887</td>\n",
       "    </tr>\n",
       "    <tr>\n",
       "      <th>3</th>\n",
       "      <td>KNN</td>\n",
       "      <td>0.971</td>\n",
       "    </tr>\n",
       "    <tr>\n",
       "      <th>0</th>\n",
       "      <td>Random</td>\n",
       "      <td>1.306</td>\n",
       "    </tr>\n",
       "  </tbody>\n",
       "</table>\n",
       "</div>"
      ],
      "text/plain": [
       "  Algoritmo  RMSE CV\n",
       "1  Baseline    0.879\n",
       "2       SVD    0.887\n",
       "3       KNN    0.971\n",
       "0    Random    1.306"
      ]
     },
     "execution_count": 71,
     "metadata": {},
     "output_type": "execute_result"
    }
   ],
   "source": [
    "res=[]\n",
    "res.append(round(cv_random['test_rmse'].mean(),3))\n",
    "res.append(round(cv_baseline['test_rmse'].mean(),3))\n",
    "res.append(round(cv_svd['test_rmse'].mean(),3))\n",
    "res.append(round(cv_knn['test_rmse'].mean(),3))\n",
    "\n",
    "\n",
    "res_df=pd.DataFrame(pd.concat([pd.Series(['Random','Baseline','SVD','KNN']),pd.Series(res)],axis=1))\n",
    "res_df.columns=['Algoritmo','RMSE CV']\n",
    "res_df.sort_values(by='RMSE CV')\n",
    "\n",
    "#El modelo que mejor funciona es el Baseline, de todas maneras elegimos continuar con el SVD"
   ]
  },
  {
   "cell_type": "markdown",
   "metadata": {},
   "source": [
    "#### Teniendo en cuenta metricas para los sistemas de recomendacion"
   ]
  },
  {
   "cell_type": "markdown",
   "metadata": {},
   "source": [
    "**RELEVANTE** --> Puntuacion es mayor al umbral definido \n",
    "\n",
    "**RECOMENDADO** --> Lo mismo que relevante + se encuentra entre las k mejores estimadas\n",
    "\n",
    "\n",
    "*PRECISSION@KEY* --> Items recomendados que son relevantes (de los que catalogo como + cuantos son positivos realmente)\n",
    "\n",
    "*RECALL@KEY* --> Proporcion de items relevantes que son recomendados (de los positivos reales cuales estan siendo recomendados)"
   ]
  },
  {
   "cell_type": "code",
   "execution_count": 73,
   "metadata": {},
   "outputs": [],
   "source": [
    "def precision_recall_at_k(predictions, k=10, threshold=3.5):\n",
    "    \"\"\"Return precision and recall at k metrics for each user\"\"\"\n",
    "\n",
    "    # First map the predictions to each user.\n",
    "    user_est_true = defaultdict(list)\n",
    "    for uid, _, true_r, est, _ in predictions:\n",
    "        user_est_true[uid].append((est, true_r))\n",
    "\n",
    "    precisions = dict()\n",
    "    recalls = dict()\n",
    "    for uid, user_ratings in user_est_true.items():\n",
    "\n",
    "        # Sort user ratings by estimated value\n",
    "        user_ratings.sort(key=lambda x: x[0], reverse=True)\n",
    "\n",
    "        # Number of relevant items\n",
    "        n_rel = sum((true_r >= threshold) for (_, true_r) in user_ratings)\n",
    "\n",
    "        # Number of recommended items in top k\n",
    "        n_rec_k = sum((est >= threshold) for (est, _) in user_ratings[:k])\n",
    "\n",
    "        # Number of relevant and recommended items in top k\n",
    "        n_rel_and_rec_k = sum(\n",
    "            ((true_r >= threshold) and (est >= threshold))\n",
    "            for (est, true_r) in user_ratings[:k]\n",
    "        )\n",
    "\n",
    "        # Precision@K: Proportion of recommended items that are relevant\n",
    "        # When n_rec_k is 0, Precision is undefined. We here set it to 0.\n",
    "\n",
    "        precisions[uid] = n_rel_and_rec_k / n_rec_k if n_rec_k != 0 else 0\n",
    "\n",
    "        # Recall@K: Proportion of relevant items that are recommended\n",
    "        # When n_rel is 0, Recall is undefined. We here set it to 0.\n",
    "\n",
    "        recalls[uid] = n_rel_and_rec_k / n_rel if n_rel != 0 else 0\n",
    "\n",
    "    return precisions, recalls"
   ]
  },
  {
   "cell_type": "code",
   "execution_count": 74,
   "metadata": {},
   "outputs": [
    {
     "name": "stdout",
     "output_type": "stream",
     "text": [
      "Precision @5 medio: 0.59\n",
      "Recall @5 medio: 0.39\n"
     ]
    }
   ],
   "source": [
    "#Pruebo con 5 recomendaciones a ver como me va \n",
    "kf = KFold(n_splits=4)\n",
    "algo = SVD(n_epochs=10, random_state=100)\n",
    "precision_5=[]\n",
    "recall_5=[]\n",
    "\n",
    "for trainset, testset in kf.split(data):\n",
    "    algo.fit(trainset)\n",
    "    predictions = algo.test(testset)\n",
    "    \n",
    "    precisions, recalls = precision_recall_at_k(predictions, k=5, threshold=4)\n",
    "    precision_5.append(sum(prec for prec in precisions.values()) / len(precisions))\n",
    "    recall_5.append(sum(rec for rec in recalls.values()) / len(recalls))\n",
    "\n",
    "#Top 5\n",
    "print(f'Precision @5 medio: {round(np.array(precision_5).mean(),2)}')\n",
    "print(f'Recall @5 medio: {round(np.array(recall_5).mean(),2)}')"
   ]
  },
  {
   "cell_type": "markdown",
   "metadata": {},
   "source": [
    "Esto significa que  en promedio, \n",
    "\n",
    "RECALL --> el 59% del top 5 de recomendaciones hechas para cada usuario son relevantes (con un puntaje estimado mayor o igual a 4)\n",
    "\n",
    "PRECISSION --> mientras que de todos los restaurantes relevantes, el 39% aparecieron en el top 5."
   ]
  },
  {
   "cell_type": "markdown",
   "metadata": {},
   "source": [
    "Reducir k es mayor precision pero menor recall --> Igual busco mayor precision porque no quieroo pifiarle a los restaurantes recomendados. Por eso pruebo reducir k "
   ]
  },
  {
   "cell_type": "markdown",
   "metadata": {},
   "source": [
    "**Thredshold** --> A partir de mayor a que puntuacion lo recomienda"
   ]
  },
  {
   "cell_type": "code",
   "execution_count": 78,
   "metadata": {},
   "outputs": [
    {
     "name": "stdout",
     "output_type": "stream",
     "text": [
      "Precision @3 medio: 0.59\n",
      "Recall @3 medio: 0.35\n"
     ]
    }
   ],
   "source": [
    "\n",
    "#Pruebo con 3 recomendaciones a ver como me va \n",
    "kf = KFold(n_splits=4)\n",
    "algo = SVD(n_epochs=10, random_state=100)\n",
    "precision_3=[]\n",
    "recall_3=[]\n",
    "\n",
    "for trainset, testset in kf.split(data):\n",
    "    algo.fit(trainset)\n",
    "    predictions = algo.test(testset)\n",
    "    \n",
    "    precisions, recalls = precision_recall_at_k(predictions, k= 3, threshold=4)\n",
    "    precision_3.append(sum(prec for prec in precisions.values()) / len(precisions))\n",
    "    recall_3.append(sum(rec for rec in recalls.values()) / len(recalls))\n",
    "\n",
    "#Top 3\n",
    "print(f'Precision @3 medio: {round(np.array(precision_3).mean(),2)}')\n",
    "print(f'Recall @3 medio: {round(np.array(recall_3).mean(),2)}')"
   ]
  },
  {
   "cell_type": "markdown",
   "metadata": {},
   "source": [
    "No cambia mucho disminuyendo k entonces conservamos un k = 5"
   ]
  },
  {
   "cell_type": "code",
   "execution_count": 79,
   "metadata": {},
   "outputs": [
    {
     "name": "stdout",
     "output_type": "stream",
     "text": [
      "Modelo SVD serializado como 'svd_model.pkl'\n"
     ]
    }
   ],
   "source": [
    "#Serializo el modelo para poder usarlo en una app de Streamlit \n",
    "import pickle\n",
    "\n",
    "# Guarda el modelo serializado\n",
    "with open('./Data/svd_model.pkl', 'wb') as model_file:\n",
    "    pickle.dump(svd, model_file)\n",
    "print(\"Modelo SVD serializado como 'svd_model.pkl'\")"
   ]
  }
 ],
 "metadata": {
  "kernelspec": {
   "display_name": "base",
   "language": "python",
   "name": "python3"
  },
  "language_info": {
   "codemirror_mode": {
    "name": "ipython",
    "version": 3
   },
   "file_extension": ".py",
   "mimetype": "text/x-python",
   "name": "python",
   "nbconvert_exporter": "python",
   "pygments_lexer": "ipython3",
   "version": "3.12.3"
  }
 },
 "nbformat": 4,
 "nbformat_minor": 2
}
